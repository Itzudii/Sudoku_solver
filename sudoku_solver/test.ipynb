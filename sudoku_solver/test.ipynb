{
 "cells": [
  {
   "cell_type": "code",
   "execution_count": 3,
   "id": "59598610",
   "metadata": {},
   "outputs": [
    {
     "data": {
      "text/plain": [
       "array([[1, 1, 0, 0, 0, 0, 0, 0, 0],\n",
       "       [0, 0, 0, 0, 0, 0, 0, 0, 0],\n",
       "       [0, 0, 0, 0, 0, 0, 0, 0, 0],\n",
       "       [0, 0, 0, 0, 0, 0, 0, 0, 0],\n",
       "       [0, 0, 0, 0, 0, 0, 0, 0, 0],\n",
       "       [0, 0, 0, 0, 0, 0, 0, 0, 0],\n",
       "       [0, 0, 0, 0, 0, 0, 0, 0, 0],\n",
       "       [0, 0, 0, 0, 0, 0, 0, 0, 0],\n",
       "       [0, 0, 0, 0, 0, 0, 0, 0, 0]])"
      ]
     },
     "execution_count": 3,
     "metadata": {},
     "output_type": "execute_result"
    }
   ],
   "source": [
    "import numpy as np\n",
    "f = np.array([0 for _ in range(81)]).reshape((9,9))\n",
    "f[0][0]=1\n",
    "f[0][1]=1\n",
    "f"
   ]
  },
  {
   "cell_type": "code",
   "execution_count": 4,
   "id": "59ee2660",
   "metadata": {},
   "outputs": [],
   "source": [
    "def norepeat(array): \n",
    "    array = array.flatten()\n",
    "    array = array[array != 0]  # remove 0s\n",
    "    return len(array) == len(set(array))"
   ]
  },
  {
   "cell_type": "code",
   "execution_count": 5,
   "id": "8133e755",
   "metadata": {},
   "outputs": [],
   "source": [
    "def find_empty(array):\n",
    "    for i in range(9):\n",
    "        for j in range(9):\n",
    "            if array[i][j] == 0:\n",
    "                return (i, j)\n",
    "    return None"
   ]
  },
  {
   "cell_type": "code",
   "execution_count": 6,
   "id": "4634b58a",
   "metadata": {},
   "outputs": [],
   "source": [
    "def check(index,array):\n",
    "    x,y = index\n",
    "    row = array[x,:]\n",
    "    col = array[:,y]\n",
    "    getcorn = lambda X:(X//3)*3\n",
    "    x, y = getcorn(x),getcorn(y)\n",
    "    return norepeat(row)  and norepeat(col) and norepeat(array[x:x+3,y:y+3])\n"
   ]
  },
  {
   "cell_type": "code",
   "execution_count": 7,
   "id": "3ccb99dd",
   "metadata": {},
   "outputs": [],
   "source": [
    "def nextind(index):\n",
    "    n,m = index\n",
    "    if m == 8:\n",
    "        n+=1\n",
    "        m=0\n",
    "    else:\n",
    "        m+=1\n",
    "    return (n,m)\n"
   ]
  },
  {
   "cell_type": "code",
   "execution_count": 8,
   "id": "a30f88bb",
   "metadata": {},
   "outputs": [],
   "source": [
    "def solve(array):\n",
    "    empty = find_empty(array)\n",
    "    if not empty:\n",
    "        print(array)\n",
    "        return True  \n",
    "    x,y  = empty\n",
    "    \n",
    "    for i in range(1,10):\n",
    "        array[x][y] = i\n",
    "        if check((x,y),array):\n",
    "           if solve(array):\n",
    "               return True\n",
    "        array[x][y] = 0  \n",
    "    return False\n"
   ]
  },
  {
   "cell_type": "code",
   "execution_count": 9,
   "id": "20ea82ce",
   "metadata": {},
   "outputs": [
    {
     "data": {
      "text/plain": [
       "False"
      ]
     },
     "execution_count": 9,
     "metadata": {},
     "output_type": "execute_result"
    }
   ],
   "source": [
    "solve(f)"
   ]
  },
  {
   "cell_type": "code",
   "execution_count": null,
   "id": "22b18955",
   "metadata": {},
   "outputs": [],
   "source": []
  }
 ],
 "metadata": {
  "kernelspec": {
   "display_name": "Python 3",
   "language": "python",
   "name": "python3"
  },
  "language_info": {
   "codemirror_mode": {
    "name": "ipython",
    "version": 3
   },
   "file_extension": ".py",
   "mimetype": "text/x-python",
   "name": "python",
   "nbconvert_exporter": "python",
   "pygments_lexer": "ipython3",
   "version": "3.10.11"
  }
 },
 "nbformat": 4,
 "nbformat_minor": 5
}
